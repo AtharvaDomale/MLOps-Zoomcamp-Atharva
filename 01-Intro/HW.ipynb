{
 "cells": [
  {
   "cell_type": "code",
   "execution_count": 7,
   "id": "69c2336e-535d-4281-a9a2-e08dfeb262b3",
   "metadata": {},
   "outputs": [
    {
     "name": "stdout",
     "output_type": "stream",
     "text": [
      "Number of columns in the January dataset: 19\n",
      "Fraction of records remaining: 98.12%\n"
     ]
    },
    {
     "name": "stderr",
     "output_type": "stream",
     "text": [
      "C:\\Users\\athar\\AppData\\Local\\Temp\\ipykernel_26216\\730892438.py:27: SettingWithCopyWarning: \n",
      "A value is trying to be set on a copy of a slice from a DataFrame.\n",
      "Try using .loc[row_indexer,col_indexer] = value instead\n",
      "\n",
      "See the caveats in the documentation: https://pandas.pydata.org/pandas-docs/stable/user_guide/indexing.html#returning-a-view-versus-a-copy\n",
      "  filtered_df['PULocationID'] = filtered_df['PULocationID'].astype(str)\n",
      "C:\\Users\\athar\\AppData\\Local\\Temp\\ipykernel_26216\\730892438.py:28: SettingWithCopyWarning: \n",
      "A value is trying to be set on a copy of a slice from a DataFrame.\n",
      "Try using .loc[row_indexer,col_indexer] = value instead\n",
      "\n",
      "See the caveats in the documentation: https://pandas.pydata.org/pandas-docs/stable/user_guide/indexing.html#returning-a-view-versus-a-copy\n",
      "  filtered_df['DOLocationID'] = filtered_df['DOLocationID'].astype(str)\n"
     ]
    },
    {
     "name": "stdout",
     "output_type": "stream",
     "text": [
      "Dimensionality of the feature matrix: 515\n",
      "RMSE on training data: 7.65\n"
     ]
    },
    {
     "name": "stderr",
     "output_type": "stream",
     "text": [
      "C:\\Users\\athar\\AppData\\Local\\Temp\\ipykernel_26216\\730892438.py:56: SettingWithCopyWarning: \n",
      "A value is trying to be set on a copy of a slice from a DataFrame.\n",
      "Try using .loc[row_indexer,col_indexer] = value instead\n",
      "\n",
      "See the caveats in the documentation: https://pandas.pydata.org/pandas-docs/stable/user_guide/indexing.html#returning-a-view-versus-a-copy\n",
      "  filtered_df_feb['PULocationID'] = filtered_df_feb['PULocationID'].astype(str)\n",
      "C:\\Users\\athar\\AppData\\Local\\Temp\\ipykernel_26216\\730892438.py:57: SettingWithCopyWarning: \n",
      "A value is trying to be set on a copy of a slice from a DataFrame.\n",
      "Try using .loc[row_indexer,col_indexer] = value instead\n",
      "\n",
      "See the caveats in the documentation: https://pandas.pydata.org/pandas-docs/stable/user_guide/indexing.html#returning-a-view-versus-a-copy\n",
      "  filtered_df_feb['DOLocationID'] = filtered_df_feb['DOLocationID'].astype(str)\n"
     ]
    },
    {
     "name": "stdout",
     "output_type": "stream",
     "text": [
      "RMSE on validation data: 7.81\n"
     ]
    }
   ],
   "source": [
    "import pandas as pd\n",
    "from sklearn.feature_extraction import DictVectorizer\n",
    "from sklearn.linear_model import LinearRegression\n",
    "from sklearn.metrics import mean_squared_error\n",
    "from scipy.sparse import csr_matrix\n",
    "import numpy as np\n",
    "\n",
    "# Step 1: Read the dataset from the provided URL\n",
    "url_january = 'https://d37ci6vzurychx.cloudfront.net/trip-data/yellow_tripdata_2023-01.parquet'\n",
    "df_january = pd.read_parquet(url_january)\n",
    "num_columns = df_january.shape[1]\n",
    "print(f'Number of columns in the January dataset: {num_columns}')\n",
    "\n",
    "# Step 2: Compute the duration in minutes\n",
    "df_january['tpep_pickup_datetime'] = pd.to_datetime(df_january['tpep_pickup_datetime'])\n",
    "df_january['tpep_dropoff_datetime'] = pd.to_datetime(df_january['tpep_dropoff_datetime'])\n",
    "df_january['duration'] = (df_january['tpep_dropoff_datetime'] - df_january['tpep_pickup_datetime']).dt.total_seconds() / 60\n",
    "\n",
    "# Step 3: Drop outliers (duration between 1 and 60 minutes)\n",
    "filtered_df = df_january[(df_january['duration'] >= 1) & (df_january['duration'] <= 60)]\n",
    "\n",
    "# Fraction of records remaining after dropping outliers\n",
    "fraction_remaining = len(filtered_df) / len(df_january)\n",
    "print(f'Fraction of records remaining: {fraction_remaining:.2%}')\n",
    "\n",
    "# Step 4: One-hot encoding for PULocationID and DOLocationID\n",
    "filtered_df['PULocationID'] = filtered_df['PULocationID'].astype(str)\n",
    "filtered_df['DOLocationID'] = filtered_df['DOLocationID'].astype(str)\n",
    "dicts = filtered_df[['PULocationID', 'DOLocationID']].to_dict(orient='records')\n",
    "\n",
    "# Fit a dictionary vectorizer with sparse output\n",
    "dv = DictVectorizer(sparse=True)\n",
    "X = dv.fit_transform(dicts)\n",
    "\n",
    "# Print the dimensionality of the feature matrix\n",
    "dimensionality = X.shape[1]\n",
    "print(f'Dimensionality of the feature matrix: {dimensionality}')\n",
    "\n",
    "# Step 5: Train a linear regression model using a sparse matrix\n",
    "y_train = filtered_df['duration'].values\n",
    "model = LinearRegression()\n",
    "model.fit(X, y_train)\n",
    "\n",
    "# Step 6: Calculate the RMSE on the training data\n",
    "y_train_pred = model.predict(X)\n",
    "rmse_train = np.sqrt(mean_squared_error(y_train, y_train_pred))\n",
    "print(f'RMSE on training data: {rmse_train:.2f}')\n",
    "\n",
    "# Step 7: Read the February dataset and apply the same transformations\n",
    "url_february = 'https://d37ci6vzurychx.cloudfront.net/trip-data/yellow_tripdata_2023-02.parquet'\n",
    "df_february = pd.read_parquet(url_february)\n",
    "df_february['tpep_pickup_datetime'] = pd.to_datetime(df_february['tpep_pickup_datetime'])\n",
    "df_february['tpep_dropoff_datetime'] = pd.to_datetime(df_february['tpep_dropoff_datetime'])\n",
    "df_february['duration'] = (df_february['tpep_dropoff_datetime'] - df_february['tpep_pickup_datetime']).dt.total_seconds() / 60\n",
    "filtered_df_feb = df_february[(df_february['duration'] >= 1) & (df_february['duration'] <= 60)]\n",
    "filtered_df_feb['PULocationID'] = filtered_df_feb['PULocationID'].astype(str)\n",
    "filtered_df_feb['DOLocationID'] = filtered_df_feb['DOLocationID'].astype(str)\n",
    "dicts_feb = filtered_df_feb[['PULocationID', 'DOLocationID']].to_dict(orient='records')\n",
    "X_val = dv.transform(dicts_feb)\n",
    "y_val = filtered_df_feb['duration'].values\n",
    "\n",
    "# Step 8: Predict on the validation data and calculate the RMSE\n",
    "y_val_pred = model.predict(X_val)\n",
    "rmse_val = np.sqrt(mean_squared_error(y_val, y_val_pred))\n",
    "print(f'RMSE on validation data: {rmse_val:.2f}')\n"
   ]
  },
  {
   "cell_type": "code",
   "execution_count": null,
   "id": "f0b19184-4410-4b0a-be79-abdf4f61d790",
   "metadata": {},
   "outputs": [],
   "source": []
  },
  {
   "cell_type": "code",
   "execution_count": null,
   "id": "9211214b-86ef-44ce-96bd-e6c38d5b1a6a",
   "metadata": {},
   "outputs": [],
   "source": []
  },
  {
   "cell_type": "code",
   "execution_count": null,
   "id": "d558627f-434b-4ccd-b12b-354685b9e5fa",
   "metadata": {},
   "outputs": [],
   "source": []
  }
 ],
 "metadata": {
  "kernelspec": {
   "display_name": "Python 3 (ipykernel)",
   "language": "python",
   "name": "python3"
  },
  "language_info": {
   "codemirror_mode": {
    "name": "ipython",
    "version": 3
   },
   "file_extension": ".py",
   "mimetype": "text/x-python",
   "name": "python",
   "nbconvert_exporter": "python",
   "pygments_lexer": "ipython3",
   "version": "3.12.3"
  }
 },
 "nbformat": 4,
 "nbformat_minor": 5
}
